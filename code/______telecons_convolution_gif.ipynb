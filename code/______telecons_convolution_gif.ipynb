{
 "cells": [
  {
   "cell_type": "markdown",
   "id": "4184406c",
   "metadata": {},
   "source": [
    "#  <center> Telecons + DLmath (CNN) </center>"
   ]
  },
  {
   "cell_type": "markdown",
   "id": "4fe234c9",
   "metadata": {},
   "source": [
    "## 1. Data Preparation"
   ]
  },
  {
   "cell_type": "code",
   "execution_count": 1,
   "id": "ad28f50b",
   "metadata": {},
   "outputs": [],
   "source": [
    "import os\n",
    "import pandas as pd\n",
    "import torchvision.transforms as transforms\n",
    "import torch\n",
    "import torch.nn as nn\n",
    "import cv2\n",
    "import numpy as np\n",
    "from torch.utils.data import Dataset\n",
    "import random\n",
    "from torch.utils.data import DataLoader\n",
    "from sklearn.model_selection import train_test_split\n",
    "from sklearn.metrics import accuracy_score"
   ]
  },
  {
   "cell_type": "markdown",
   "id": "e0f1948b",
   "metadata": {},
   "source": [
    "## 2. Define the PyTorch Dataset "
   ]
  },
  {
   "cell_type": "code",
   "execution_count": 2,
   "id": "f2cbdc73",
   "metadata": {},
   "outputs": [],
   "source": [
    "# 데이터셋 정의\n",
    "class VideoDataset(Dataset):\n",
    "    def __init__(self, videos, labels, transform=None):\n",
    "        self.videos = videos\n",
    "        self.labels = labels\n",
    "        self.transform = transform\n",
    "\n",
    "    def __len__(self):\n",
    "        return len(self.videos)\n",
    "\n",
    "    def __getitem__(self, idx):\n",
    "        video = self.videos[idx]  # (T, H, W, C)\n",
    "        label = self.labels[idx]\n",
    "        \n",
    "        # 동영상 프레임 별로 전처리\n",
    "        if self.transform:\n",
    "            video = torch.stack([self.transform(frame) for frame in video])\n",
    "        \n",
    "        return video, label"
   ]
  },
  {
   "cell_type": "markdown",
   "id": "51e0cda5",
   "metadata": {},
   "source": [
    "## 3. CNN Model Design"
   ]
  },
  {
   "cell_type": "code",
   "execution_count": 3,
   "id": "764a9c3b",
   "metadata": {},
   "outputs": [],
   "source": [
    "class CNNModel(nn.Module):\n",
    "    def __init__(self, num_classes):\n",
    "        super(CNNModel, self).__init__()\n",
    "        \n",
    "        # CNN Layers\n",
    "        self.cnn = nn.Sequential(\n",
    "            nn.Conv2d(3, 8, kernel_size=3, stride=2, padding=1),\n",
    "            nn.ReLU(),\n",
    "            nn.MaxPool2d(2),  # 64 -> 16\n",
    "\n",
    "            nn.Conv2d(8, 16, kernel_size=3, stride=2, padding=1),\n",
    "            nn.ReLU(),\n",
    "            nn.MaxPool2d(2),  # 16 -> 4\n",
    "\n",
    "            nn.Conv2d(16, 32, kernel_size=3, stride=2, padding=1),\n",
    "            nn.ReLU(),\n",
    "            nn.MaxPool2d(2),  # 4 -> 1\n",
    "        )\n",
    "        \n",
    "        # Fully Connected Layer\n",
    "        self.fc = nn.Linear(32, num_classes)\n",
    "    \n",
    "    def forward(self, x):\n",
    "        batch_size, seq_len, c, h, w = x.shape  # (batch_size, seq_len, channels, height, width)\n",
    "        x = x.view(batch_size * seq_len, c, h, w)\n",
    "        x = self.cnn(x)\n",
    "        x = x.view(batch_size, seq_len, -1)  # (batch_size, seq_len, feature_dim)\n",
    "        x = x.mean(dim=1)  # Average pooling over the sequence dimension\n",
    "        x = self.fc(x)  # Fully connected layer for classification\n",
    "        return x"
   ]
  },
  {
   "cell_type": "code",
   "execution_count": 4,
   "id": "172ab8d4",
   "metadata": {},
   "outputs": [],
   "source": [
    "import os\n",
    "import cv2\n",
    "import numpy as np\n",
    "\n",
    "def load_videos_split_frames(base_dir, folders, frame_size=(64, 64), num_frames=5):\n",
    "    \"\"\"\n",
    "    동영상을 5등분하여 각 구간에서 1프레임씩 총 5프레임을 추출\n",
    "\n",
    "    Parameters:\n",
    "        base_dir (str): 동영상 폴더의 기본 디렉토리\n",
    "        folders (list): 하위 폴더 리스트\n",
    "        frame_size (tuple): 프레임 크기 (H, W)\n",
    "        num_frames (int): 추출할 프레임 수 (기본값 5)\n",
    "\n",
    "    Returns:\n",
    "        videos (list): 영상 데이터 리스트 [(T, H, W, C)]\n",
    "        labels (list): 라벨 리스트\n",
    "    \"\"\"\n",
    "    videos, labels = [], []\n",
    "    label_map = {\"C1\": 0, \"C2\": 1, \"C5\": 2}  # 클래스 라벨링\n",
    "\n",
    "    for folder in folders:\n",
    "        folder_path = os.path.join(base_dir, folder)\n",
    "        if os.path.isdir(folder_path):\n",
    "            for file_name in os.listdir(folder_path):\n",
    "                if file_name.endswith(\".gif\"):\n",
    "                    video_path = os.path.join(folder_path, file_name)\n",
    "                    cap = cv2.VideoCapture(video_path)\n",
    "                    total_frames = int(cap.get(cv2.CAP_PROP_FRAME_COUNT))\n",
    "\n",
    "                    if total_frames >= num_frames:\n",
    "                        step = total_frames // num_frames\n",
    "                        selected_frames = []\n",
    "\n",
    "                        for i in range(num_frames):\n",
    "                            frame_idx = i * step\n",
    "                            cap.set(cv2.CAP_PROP_POS_FRAMES, frame_idx)\n",
    "                            ret, frame = cap.read()\n",
    "                            if not ret:\n",
    "                                break\n",
    "                            frame = cv2.resize(frame, frame_size)\n",
    "                            selected_frames.append(frame)\n",
    "\n",
    "                        if len(selected_frames) == num_frames:\n",
    "                            videos.append(np.array(selected_frames))  # (T, H, W, C)\n",
    "                            labels.append(label_map[folder.split(\"_\")[0]])\n",
    "\n",
    "                    cap.release()\n",
    "    return videos, labels"
   ]
  },
  {
   "cell_type": "markdown",
   "id": "c5c3e289",
   "metadata": {},
   "source": [
    "## 4. Data Loader"
   ]
  },
  {
   "cell_type": "code",
   "execution_count": 5,
   "id": "27d80bf0",
   "metadata": {},
   "outputs": [],
   "source": [
    "# 주요 파라미터 및 실행\n",
    "device = torch.device(\"cuda\" if torch.cuda.is_available() else \"cpu\")\n",
    "base_dir = \"/home/work/DLmath/Seulbin/Telecons/data/thermal_processed\"\n",
    "folders = [\"C1_KNG_0207\", \"C1_SHM_0201\", \"C2_KNG_0207\", \"C2_SHM_0201_0229\", \"C5_SHM_0229\"]\n",
    "videos, video_labels = load_videos_split_frames(base_dir, folders)\n",
    "\n",
    "# Train-Val-Test 분할\n",
    "train_videos, temp_videos, train_labels, temp_labels = train_test_split(videos, video_labels, test_size=0.4, random_state=42)\n",
    "val_videos, test_videos, val_labels, test_labels = train_test_split(temp_videos, temp_labels, test_size=0.5, random_state=42)\n",
    "\n",
    "# 데이터셋 및 데이터로더 생성\n",
    "transform = transforms.Compose([\n",
    "    transforms.ToTensor(),\n",
    "    transforms.Normalize(mean=[0.5, 0.5, 0.5], std=[0.5, 0.5, 0.5])\n",
    "])\n",
    "train_dataset = VideoDataset(train_videos, train_labels, transform)\n",
    "val_dataset = VideoDataset(val_videos, val_labels, transform)\n",
    "test_dataset = VideoDataset(test_videos, test_labels, transform)\n",
    "\n",
    "train_loader = DataLoader(train_dataset, batch_size=4, shuffle=True)\n",
    "val_loader = DataLoader(val_dataset, batch_size=4, shuffle=False)\n",
    "test_loader = DataLoader(test_dataset, batch_size=4, shuffle=False)"
   ]
  },
  {
   "cell_type": "code",
   "execution_count": 6,
   "id": "f4fc7ecf",
   "metadata": {},
   "outputs": [
    {
     "data": {
      "image/png": "[encoded data removed]",
      "text/plain": [
       "<Figure size 1500x500 with 5 Axes>"
      ]
     },
     "metadata": {},
     "output_type": "display_data"
    }
   ],
   "source": [
    "import matplotlib.pyplot as plt\n",
    "\n",
    "def visualize_all_frames(dataset, idx=0):\n",
    "    \"\"\"\n",
    "    데이터셋에서 주어진 인덱스의 비디오의 모든 프레임을 시각화합니다.\n",
    "    \n",
    "    Parameters:\n",
    "        dataset: VideoDataset 객체\n",
    "        idx: 시각화할 데이터 인덱스\n",
    "    \"\"\"\n",
    "    video, label = dataset[idx]  # video: (T, C, H, W), label: int\n",
    "    \n",
    "    num_frames = video.shape[0]\n",
    "    plt.figure(figsize=(15, 5))\n",
    "    \n",
    "    for i in range(num_frames):\n",
    "        frame = video[i]  # (C, H, W)\n",
    "        frame = frame.permute(1, 2, 0).numpy()  # (H, W, C)\n",
    "        \n",
    "        # Normalize된 데이터를 복원 (Transform 기준)\n",
    "        frame = (frame * 0.5) + 0.5  # Transform Normalize(mean=0.5, std=0.5)\n",
    "        \n",
    "        # 각 프레임을 서브플롯에 출력\n",
    "        plt.subplot(1, num_frames, i + 1)\n",
    "        plt.imshow(frame)\n",
    "        plt.title(f\"Frame {i+1}\")\n",
    "        plt.axis(\"off\")\n",
    "    \n",
    "    plt.suptitle(f\"All Frames of Video Index {idx}, Label: {label}\")\n",
    "    plt.tight_layout()\n",
    "    plt.show()\n",
    "\n",
    "# train_dataset에서 첫 번째 비디오의 모든 프레임 출력\n",
    "visualize_all_frames(train_dataset, idx=6)"
   ]
  },
  {
   "cell_type": "markdown",
   "id": "09060fe9",
   "metadata": {},
   "source": [
    "## 5. Training Loop"
   ]
  },
  {
   "cell_type": "code",
   "execution_count": 7,
   "id": "8a17bfd6",
   "metadata": {},
   "outputs": [],
   "source": [
    "# 학습 함수\n",
    "def train_model(model, train_loader, val_loader, criterion, optimizer, device, num_epochs=50):\n",
    "    best_model = None\n",
    "    best_val_acc = 0.0\n",
    "\n",
    "    for epoch in range(num_epochs):\n",
    "        model.train()\n",
    "        train_loss = 0.0\n",
    "        correct_preds, total_preds = 0, 0\n",
    "\n",
    "        for videos, labels in train_loader:\n",
    "            videos, labels = videos.to(device), labels.to(device)\n",
    "            optimizer.zero_grad()\n",
    "            outputs = model(videos)\n",
    "            loss = criterion(outputs, labels)\n",
    "            loss.backward()\n",
    "            optimizer.step()\n",
    "            train_loss += loss.item()\n",
    "\n",
    "            # 정확도 계산\n",
    "            _, preds = torch.max(outputs, dim=1)\n",
    "            correct_preds += (preds == labels).sum().item()\n",
    "            total_preds += labels.size(0)\n",
    "\n",
    "        train_acc = correct_preds / total_preds\n",
    "\n",
    "        # Validation\n",
    "        model.eval()\n",
    "        val_loss = 0.0\n",
    "        correct_preds, total_preds = 0, 0\n",
    "        with torch.no_grad():\n",
    "            for videos, labels in val_loader:\n",
    "                videos, labels = videos.to(device), labels.to(device)\n",
    "                outputs = model(videos)\n",
    "                loss = criterion(outputs, labels)\n",
    "                val_loss += loss.item()\n",
    "\n",
    "                # 정확도 계산\n",
    "                _, preds = torch.max(outputs, dim=1)\n",
    "                correct_preds += (preds == labels).sum().item()\n",
    "                total_preds += labels.size(0)\n",
    "\n",
    "        val_loss /= len(val_loader)\n",
    "        val_acc = correct_preds / total_preds\n",
    "\n",
    "        print(f\"Epoch {epoch + 1}, Train Loss: {train_loss:.4f}, Train Accuracy: {train_acc:.4f}, Val Loss: {val_loss:.4f}, Val Accuracy: {val_acc:.4f}\")\n",
    "\n",
    "        # Best Model 저장\n",
    "        if val_acc > best_val_acc:\n",
    "            best_val_acc = val_acc\n",
    "            best_model = model.state_dict()\n",
    "            torch.save(best_model, \"best_model.pth\")\n",
    "            print(f\"Best model saved with validation accuracy: {best_val_acc:.4f}\")\n",
    "\n",
    "    # 최종적으로 Best Model 로드\n",
    "    if best_model:\n",
    "        model.load_state_dict(best_model)\n",
    "        print(f\"Best model loaded with validation accuracy: {best_val_acc:.4f}\")\n",
    "\n",
    "    return model\n",
    "\n",
    "# 테스트 함수\n",
    "def test_model(model, test_loader, device):\n",
    "    model.eval()\n",
    "    all_preds, all_labels = [], []\n",
    "\n",
    "    with torch.no_grad():\n",
    "        for videos, labels in test_loader:\n",
    "            videos = videos.to(device)\n",
    "            outputs = model(videos)\n",
    "            preds = torch.argmax(outputs, dim=1)\n",
    "            all_preds.extend(preds.cpu().numpy())\n",
    "            all_labels.extend(labels.numpy())\n",
    "\n",
    "    acc = accuracy_score(all_labels, all_preds)\n",
    "    print(f\"Test Accuracy: {acc:.4f}\")\n",
    "    return acc"
   ]
  },
  {
   "cell_type": "code",
   "execution_count": 8,
   "id": "9998adb6",
   "metadata": {},
   "outputs": [],
   "source": [
    "# 모델, 손실 함수, 옵티마이저 정의\n",
    "model = CNNModel(num_classes=3).to(device)\n",
    "criterion = nn.CrossEntropyLoss()\n",
    "optimizer = torch.optim.Adam(model.parameters(), lr=0.001)"
   ]
  },
  {
   "cell_type": "code",
   "execution_count": 9,
   "id": "f076f262",
   "metadata": {
    "scrolled": true
   },
   "outputs": [
    {
     "name": "stdout",
     "output_type": "stream",
     "text": [
      "Epoch 1, Train Loss: 52.8499, Train Accuracy: 0.6422, Val Loss: 0.7996, Val Accuracy: 0.7308\n",
      "Best model saved with validation accuracy: 0.7308\n",
      "Epoch 2, Train Loss: 47.0883, Train Accuracy: 0.6940, Val Loss: 0.7797, Val Accuracy: 0.7308\n",
      "Epoch 3, Train Loss: 46.8145, Train Accuracy: 0.6940, Val Loss: 0.7613, Val Accuracy: 0.7308\n",
      "Epoch 4, Train Loss: 45.2642, Train Accuracy: 0.6940, Val Loss: 0.7376, Val Accuracy: 0.7308\n",
      "Epoch 5, Train Loss: 40.7210, Train Accuracy: 0.6940, Val Loss: 0.6441, Val Accuracy: 0.7308\n",
      "Epoch 6, Train Loss: 36.2790, Train Accuracy: 0.7241, Val Loss: 0.5113, Val Accuracy: 0.8462\n",
      "Best model saved with validation accuracy: 0.8462\n",
      "Epoch 7, Train Loss: 24.7144, Train Accuracy: 0.8578, Val Loss: 0.3564, Val Accuracy: 0.8462\n",
      "Epoch 8, Train Loss: 16.8137, Train Accuracy: 0.9224, Val Loss: 0.2233, Val Accuracy: 0.9487\n",
      "Best model saved with validation accuracy: 0.9487\n",
      "Epoch 9, Train Loss: 12.7614, Train Accuracy: 0.9353, Val Loss: 0.1522, Val Accuracy: 0.9744\n",
      "Best model saved with validation accuracy: 0.9744\n",
      "Epoch 10, Train Loss: 7.4525, Train Accuracy: 0.9828, Val Loss: 0.1127, Val Accuracy: 0.9872\n",
      "Best model saved with validation accuracy: 0.9872\n",
      "Epoch 11, Train Loss: 4.7386, Train Accuracy: 0.9957, Val Loss: 0.0595, Val Accuracy: 1.0000\n",
      "Best model saved with validation accuracy: 1.0000\n",
      "Epoch 12, Train Loss: 3.0957, Train Accuracy: 0.9957, Val Loss: 0.0467, Val Accuracy: 1.0000\n",
      "Epoch 13, Train Loss: 2.1155, Train Accuracy: 1.0000, Val Loss: 0.0471, Val Accuracy: 1.0000\n",
      "Epoch 14, Train Loss: 1.7233, Train Accuracy: 1.0000, Val Loss: 0.0276, Val Accuracy: 1.0000\n",
      "Epoch 15, Train Loss: 1.2001, Train Accuracy: 1.0000, Val Loss: 0.0293, Val Accuracy: 1.0000\n",
      "Epoch 16, Train Loss: 1.1415, Train Accuracy: 1.0000, Val Loss: 0.0247, Val Accuracy: 1.0000\n",
      "Epoch 17, Train Loss: 0.6593, Train Accuracy: 1.0000, Val Loss: 0.0137, Val Accuracy: 1.0000\n",
      "Epoch 18, Train Loss: 0.7801, Train Accuracy: 1.0000, Val Loss: 0.0132, Val Accuracy: 1.0000\n",
      "Epoch 19, Train Loss: 0.5310, Train Accuracy: 1.0000, Val Loss: 0.0100, Val Accuracy: 1.0000\n",
      "Epoch 20, Train Loss: 0.3731, Train Accuracy: 1.0000, Val Loss: 0.0245, Val Accuracy: 1.0000\n",
      "Epoch 21, Train Loss: 0.4549, Train Accuracy: 1.0000, Val Loss: 0.0094, Val Accuracy: 1.0000\n",
      "Epoch 22, Train Loss: 0.3582, Train Accuracy: 1.0000, Val Loss: 0.0125, Val Accuracy: 1.0000\n",
      "Epoch 23, Train Loss: 0.2271, Train Accuracy: 1.0000, Val Loss: 0.0056, Val Accuracy: 1.0000\n",
      "Epoch 24, Train Loss: 0.1762, Train Accuracy: 1.0000, Val Loss: 0.0067, Val Accuracy: 1.0000\n",
      "Epoch 25, Train Loss: 0.1603, Train Accuracy: 1.0000, Val Loss: 0.0054, Val Accuracy: 1.0000\n",
      "Epoch 26, Train Loss: 0.1445, Train Accuracy: 1.0000, Val Loss: 0.0049, Val Accuracy: 1.0000\n",
      "Epoch 27, Train Loss: 0.1411, Train Accuracy: 1.0000, Val Loss: 0.0051, Val Accuracy: 1.0000\n",
      "Epoch 28, Train Loss: 0.1269, Train Accuracy: 1.0000, Val Loss: 0.0039, Val Accuracy: 1.0000\n",
      "Epoch 29, Train Loss: 0.1216, Train Accuracy: 1.0000, Val Loss: 0.0032, Val Accuracy: 1.0000\n",
      "Epoch 30, Train Loss: 0.1201, Train Accuracy: 1.0000, Val Loss: 0.0038, Val Accuracy: 1.0000\n",
      "Epoch 31, Train Loss: 0.0909, Train Accuracy: 1.0000, Val Loss: 0.0028, Val Accuracy: 1.0000\n",
      "Epoch 32, Train Loss: 0.0830, Train Accuracy: 1.0000, Val Loss: 0.0027, Val Accuracy: 1.0000\n",
      "Epoch 33, Train Loss: 0.0726, Train Accuracy: 1.0000, Val Loss: 0.0036, Val Accuracy: 1.0000\n",
      "Epoch 34, Train Loss: 0.0679, Train Accuracy: 1.0000, Val Loss: 0.0056, Val Accuracy: 1.0000\n",
      "Epoch 35, Train Loss: 0.0654, Train Accuracy: 1.0000, Val Loss: 0.0035, Val Accuracy: 1.0000\n",
      "Epoch 36, Train Loss: 0.0663, Train Accuracy: 1.0000, Val Loss: 0.0025, Val Accuracy: 1.0000\n",
      "Epoch 37, Train Loss: 0.0555, Train Accuracy: 1.0000, Val Loss: 0.0025, Val Accuracy: 1.0000\n",
      "Epoch 38, Train Loss: 0.0551, Train Accuracy: 1.0000, Val Loss: 0.0031, Val Accuracy: 1.0000\n",
      "Epoch 39, Train Loss: 0.0489, Train Accuracy: 1.0000, Val Loss: 0.0027, Val Accuracy: 1.0000\n",
      "Epoch 40, Train Loss: 0.0475, Train Accuracy: 1.0000, Val Loss: 0.0028, Val Accuracy: 1.0000\n",
      "Epoch 41, Train Loss: 0.0407, Train Accuracy: 1.0000, Val Loss: 0.0028, Val Accuracy: 1.0000\n",
      "Epoch 42, Train Loss: 0.0424, Train Accuracy: 1.0000, Val Loss: 0.0022, Val Accuracy: 1.0000\n",
      "Epoch 43, Train Loss: 0.0413, Train Accuracy: 1.0000, Val Loss: 0.0018, Val Accuracy: 1.0000\n",
      "Epoch 44, Train Loss: 0.0354, Train Accuracy: 1.0000, Val Loss: 0.0025, Val Accuracy: 1.0000\n",
      "Epoch 45, Train Loss: 0.0358, Train Accuracy: 1.0000, Val Loss: 0.0025, Val Accuracy: 1.0000\n",
      "Epoch 46, Train Loss: 0.0307, Train Accuracy: 1.0000, Val Loss: 0.0020, Val Accuracy: 1.0000\n",
      "Epoch 47, Train Loss: 0.0305, Train Accuracy: 1.0000, Val Loss: 0.0016, Val Accuracy: 1.0000\n",
      "Epoch 48, Train Loss: 0.0296, Train Accuracy: 1.0000, Val Loss: 0.0019, Val Accuracy: 1.0000\n",
      "Epoch 49, Train Loss: 0.0275, Train Accuracy: 1.0000, Val Loss: 0.0034, Val Accuracy: 1.0000\n",
      "Epoch 50, Train Loss: 0.0241, Train Accuracy: 1.0000, Val Loss: 0.0021, Val Accuracy: 1.0000\n",
      "Best model loaded with validation accuracy: 1.0000\n"
     ]
    }
   ],
   "source": [
    "# 학습 및 테스트\n",
    "model = train_model(model, train_loader, val_loader, criterion, optimizer, device)"
   ]
  },
  {
   "cell_type": "code",
   "execution_count": 10,
   "id": "7a811000",
   "metadata": {},
   "outputs": [
    {
     "name": "stdout",
     "output_type": "stream",
     "text": [
      "Test Accuracy: 1.0000\n"
     ]
    },
    {
     "data": {
      "text/plain": [
       "1.0"
      ]
     },
     "execution_count": 10,
     "metadata": {},
     "output_type": "execute_result"
    }
   ],
   "source": [
    "test_model(model, test_loader, device)"
   ]
  },
  {
   "cell_type": "markdown",
   "id": "8a51ed1c",
   "metadata": {},
   "source": [
    "parameter 개수\n",
    "test accuracy\n"
   ]
  },
  {
   "cell_type": "code",
   "execution_count": null,
   "id": "e802bed0",
   "metadata": {},
   "outputs": [],
   "source": []
  }
 ],
 "metadata": {
  "jupytext": {
   "cell_metadata_filter": "-all",
   "encoding": "# -*- coding: utf-8 -*-",
   "notebook_metadata_filter": "-all"
  },
  "kernelspec": {
   "display_name": "PyTorch 2.2 (NGC 23.11/Python 3.10) on Backend.AI",
   "language": "python",
   "name": "python3"
  },
  "language_info": {
   "codemirror_mode": {
    "name": "ipython",
    "version": 3
   },
   "file_extension": ".py",
   "mimetype": "text/x-python",
   "name": "python",
   "nbconvert_exporter": "python",
   "pygments_lexer": "ipython3",
   "version": "3.10.12"
  }
 },
 "nbformat": 4,
 "nbformat_minor": 5
}
